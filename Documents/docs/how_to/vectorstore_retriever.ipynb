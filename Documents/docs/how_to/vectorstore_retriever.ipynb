{
 "cells": [
  {
   "cell_type": "raw",
   "id": "ee14951b",
   "metadata": {},
   "source": [
    "---\n",
    "sidebar_position: 0\n",
    "---"
   ]
  },
  {
   "cell_type": "markdown",
   "id": "105cddce",
   "metadata": {},
   "source": [
    "# ベクトルストアをリトリーバーとして使用する方法\n",
    "\n",
    "ベクトルストアリトリーバーは、 [retriever](/docs/concepts/retrievers/) として [vector store](/docs/concepts/vectorstores/) を使用するものです。  \n",
    "これは、リトリーバーの [interface](/docs/concepts/runnables/)に適合するように、ベクトルストアクラスを軽量にラップしたものです。  \n",
    "ベクトルストアに実装された検索メソッド（類似性検索やMMRなど）を利用して、ベクトルストア内のテキストをクエリします。\n",
    "\n",
    "このガイドでは、以下の内容を取り上げます：\n",
    "\n",
    "1. ベクトルストアからリトリーバーをインスタンス化する方法\n",
    "2. リトリーバーの検索タイプを指定する方法\n",
    "3. スコアの閾値やTop-kなどの追加検索パラメータを指定する方法\n",
    "\n",
    "## ベクトルストアからリトリーバーを作成する\n",
    "\n",
    "ベクトルストアからリトリーバーを作成するには、ベクトルストアの[.as_retriever](https://python.langchain.com/api_reference/core/vectorstores/langchain_core.vectorstores.base.VectorStore.html#langchain_core.vectorstores.base.VectorStore.as_retriever) メソッドを使用します。  \n",
    "以下で具体例を見ていきましょう。\n",
    "\n",
    "まず、ベクトルストアをインスタンス化します。  \n",
    "ここでは、メモリ内の [FAISS](https://python.langchain.com/api_reference/community/vectorstores/langchain_community.vectorstores.faiss.FAISS.html) ベクトルストアを使用します。"
   ]
  },
  {
   "cell_type": "code",
   "execution_count": 1,
   "id": "174e3c69",
   "metadata": {},
   "outputs": [],
   "source": [
    "from langchain_community.document_loaders import TextLoader\n",
    "from langchain_community.vectorstores import FAISS\n",
    "from langchain_openai import OpenAIEmbeddings\n",
    "from langchain_text_splitters import CharacterTextSplitter\n",
    "\n",
    "loader = TextLoader(\"state_of_the_union.txt\")\n",
    "\n",
    "documents = loader.load()\n",
    "text_splitter = CharacterTextSplitter(chunk_size=1000, chunk_overlap=0)\n",
    "texts = text_splitter.split_documents(documents)\n",
    "embeddings = OpenAIEmbeddings()\n",
    "vectorstore = FAISS.from_documents(texts, embeddings)"
   ]
  },
  {
   "cell_type": "markdown",
   "id": "6f6e65a1-5eb4-4165-b06b-9bb40624a8d8",
   "metadata": {},
   "source": [
    "retrieverをインスタンス化する"
   ]
  },
  {
   "cell_type": "code",
   "execution_count": 2,
   "id": "52df5f55",
   "metadata": {},
   "outputs": [],
   "source": [
    "retriever = vectorstore.as_retriever()"
   ]
  },
  {
   "cell_type": "markdown",
   "id": "08f8b820-5912-49c1-9d76-40be0571dffb",
   "metadata": {},
   "source": [
    "これにより、retriever（具体的には[VectorStoreRetriever](https://python.langchain.com/api_reference/core/vectorstores/langchain_core.vectorstores.base.VectorStoreRetriever.html)）が作成されます。このretrieverは通常の方法で使用できます。"
   ]
  },
  {
   "cell_type": "code",
   "execution_count": 3,
   "id": "32334fda",
   "metadata": {},
   "outputs": [],
   "source": [
    "docs = retriever.invoke(\"what did the president say about ketanji brown jackson?\")"
   ]
  },
  {
   "cell_type": "markdown",
   "id": "fd7b19f0",
   "metadata": {},
   "source": [
    "## 最大限のマージナル関連性（Maximum Marginal Relevance）による検索\n",
    "デフォルトでは、ベクトルストアリトリーバーは類似性検索を使用します。  \n",
    "ただし、ベースとなるベクトルストアが最大限のマージナル関連性（Maximum Marginal Relevance, MMR）検索をサポートしている場合、検索タイプとしてそれを指定することができます。\n",
    "\n",
    "これにより、基盤となるベクトルストアで使用される具体的なメソッド（例: `similarity_search`、`max_marginal_relevance_search` など）を明示的に指定することが可能です。"
   ]
  },
  {
   "cell_type": "code",
   "execution_count": 4,
   "id": "b286ac04",
   "metadata": {},
   "outputs": [],
   "source": [
    "retriever = vectorstore.as_retriever(search_type=\"mmr\")"
   ]
  },
  {
   "cell_type": "code",
   "execution_count": 5,
   "id": "07f937f7",
   "metadata": {},
   "outputs": [],
   "source": [
    "docs = retriever.invoke(\"what did the president say about ketanji brown jackson?\")"
   ]
  },
  {
   "cell_type": "markdown",
   "id": "6ce77789",
   "metadata": {},
   "source": [
    "## 検索パラメータの指定\n",
    "\n",
    "`search_kwargs` を使用して、基盤となるベクトルストアの検索メソッドにパラメータを渡すことができます。\n",
    "\n",
    "### 類似スコアの閾値を設定した検索\n",
    "\n",
    "例えば、類似スコアの閾値を設定し、その閾値を超えるスコアを持つドキュメントのみを返すように指定できます。"
   ]
  },
  {
   "cell_type": "code",
   "execution_count": 6,
   "id": "dbb38a03",
   "metadata": {},
   "outputs": [],
   "source": [
    "retriever = vectorstore.as_retriever(\n",
    "    search_type=\"similarity_score_threshold\", search_kwargs={\"score_threshold\": 0.5}\n",
    ")"
   ]
  },
  {
   "cell_type": "code",
   "execution_count": 7,
   "id": "56f6c9ae",
   "metadata": {},
   "outputs": [],
   "source": [
    "docs = retriever.invoke(\"what did the president say about ketanji brown jackson?\")"
   ]
  },
  {
   "cell_type": "markdown",
   "id": "329f5b26",
   "metadata": {},
   "source": [
    "### 上位k件の指定\n",
    "\n",
    "リトリーバーが返すドキュメントの数を `k` で制限することもできます。"
   ]
  },
  {
   "cell_type": "code",
   "execution_count": 8,
   "id": "d712c91d",
   "metadata": {},
   "outputs": [],
   "source": [
    "retriever = vectorstore.as_retriever(search_kwargs={\"k\": 1})"
   ]
  },
  {
   "cell_type": "code",
   "execution_count": 9,
   "id": "a79b573b",
   "metadata": {},
   "outputs": [
    {
     "data": {
      "text/plain": [
       "1"
      ]
     },
     "execution_count": 9,
     "metadata": {},
     "output_type": "execute_result"
    }
   ],
   "source": [
    "docs = retriever.invoke(\"what did the president say about ketanji brown jackson?\")\n",
    "len(docs)"
   ]
  }
 ],
 "metadata": {
  "kernelspec": {
   "display_name": "Python 3 (ipykernel)",
   "language": "python",
   "name": "python3"
  },
  "language_info": {
   "codemirror_mode": {
    "name": "ipython",
    "version": 3
   },
   "file_extension": ".py",
   "mimetype": "text/x-python",
   "name": "python",
   "nbconvert_exporter": "python",
   "pygments_lexer": "ipython3",
   "version": "3.10.4"
  }
 },
 "nbformat": 4,
 "nbformat_minor": 5
}
