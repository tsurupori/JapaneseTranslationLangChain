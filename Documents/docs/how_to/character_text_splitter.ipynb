{
 "cells": [
  {
   "cell_type": "raw",
   "id": "f781411d",
   "metadata": {
    "vscode": {
     "languageId": "raw"
    }
   },
   "source": [
    "---\n",
    "keywords: [charactertextsplitter]\n",
    "---"
   ]
  },
  {
   "cell_type": "markdown",
   "id": "c3ee8d00",
   "metadata": {},
   "source": [
    "# 文字ごとに分割する方法\n",
    "\n",
    "これは最も単純な方法です。  \n",
    "この方法では、指定された文字列（デフォルトでは \"\\n\\n\"）に基づいてテキストを分割します。チャンクの長さは文字数で測定されます。\n",
    "\n",
    "特徴\n",
    "1. テキストの分割方法: 単一の文字列セパレーターを使用して分割。\n",
    "2. チャンクサイズの測定方法: 文字数に基づいて測定。\n",
    "\n",
    "出力方法\n",
    "- 文字列を直接取得する場合: `.split_text` を使用します。\n",
    "- LangChainのDocumentオブジェクトを作成する場合（例: 後続のタスクで使用するため）: `.create_documents` を使用します。"
   ]
  },
  {
   "cell_type": "code",
   "execution_count": null,
   "id": "bf8698ce-44b2-4944-b9a9-254344b537af",
   "metadata": {},
   "outputs": [],
   "source": [
    "%pip install -qU langchain-text-splitters"
   ]
  },
  {
   "cell_type": "code",
   "execution_count": 1,
   "id": "313fb032",
   "metadata": {},
   "outputs": [
    {
     "name": "stdout",
     "output_type": "stream",
     "text": [
      "page_content='Madam Speaker, Madam Vice President, our First Lady and Second Gentleman. Members of Congress and the Cabinet. Justices of the Supreme Court. My fellow Americans.  \\n\\nLast year COVID-19 kept us apart. This year we are finally together again. \\n\\nTonight, we meet as Democrats Republicans and Independents. But most importantly as Americans. \\n\\nWith a duty to one another to the American people to the Constitution. \\n\\nAnd with an unwavering resolve that freedom will always triumph over tyranny. \\n\\nSix days ago, Russia’s Vladimir Putin sought to shake the foundations of the free world thinking he could make it bend to his menacing ways. But he badly miscalculated. \\n\\nHe thought he could roll into Ukraine and the world would roll over. Instead he met a wall of strength he never imagined. \\n\\nHe met the Ukrainian people. \\n\\nFrom President Zelenskyy to every Ukrainian, their fearlessness, their courage, their determination, inspires the world.'\n"
     ]
    }
   ],
   "source": [
    "from langchain_text_splitters import CharacterTextSplitter\n",
    "\n",
    "# サンプルドキュメントを読み込む\n",
    "with open(\"state_of_the_union.txt\") as f:\n",
    "    state_of_the_union = f.read()\n",
    "\n",
    "# CharacterTextSplitterを初期化\n",
    "text_splitter = CharacterTextSplitter(\n",
    "    separator=\"\\n\\n\",        # セパレーター（デフォルトは\"\\n\\n\"）\n",
    "    chunk_size=1000,         # チャンクの最大サイズ\n",
    "    chunk_overlap=200,       # チャンク間の重複部分のサイズ\n",
    "    length_function=len,     # チャンクサイズを測定する関数\n",
    "    is_separator_regex=False # セパレーターを正規表現として解釈しない\n",
    ")\n",
    "\n",
    "# LangChainのDocumentオブジェクトを作成\n",
    "texts = text_splitter.create_documents([state_of_the_union])\n",
    "print(texts[0])  # 最初のチャンクを表示\n"
   ]
  },
  {
   "cell_type": "markdown",
   "id": "dadcb9d6",
   "metadata": {},
   "source": [
    ".create_documents を使用して、各ドキュメントに関連するメタデータを出力チャンクに伝播させます："
   ]
  },
  {
   "cell_type": "code",
   "execution_count": 2,
   "id": "1affda60",
   "metadata": {},
   "outputs": [
    {
     "name": "stdout",
     "output_type": "stream",
     "text": [
      "page_content='Madam Speaker, Madam Vice President, our First Lady and Second Gentleman. Members of Congress and the Cabinet. Justices of the Supreme Court. My fellow Americans.  \\n\\nLast year COVID-19 kept us apart. This year we are finally together again. \\n\\nTonight, we meet as Democrats Republicans and Independents. But most importantly as Americans. \\n\\nWith a duty to one another to the American people to the Constitution. \\n\\nAnd with an unwavering resolve that freedom will always triumph over tyranny. \\n\\nSix days ago, Russia’s Vladimir Putin sought to shake the foundations of the free world thinking he could make it bend to his menacing ways. But he badly miscalculated. \\n\\nHe thought he could roll into Ukraine and the world would roll over. Instead he met a wall of strength he never imagined. \\n\\nHe met the Ukrainian people. \\n\\nFrom President Zelenskyy to every Ukrainian, their fearlessness, their courage, their determination, inspires the world.' metadata={'document': 1}\n"
     ]
    }
   ],
   "source": [
    "metadatas = [{\"document\": 1}, {\"document\": 2}]\n",
    "documents = text_splitter.create_documents(\n",
    "    [state_of_the_union, state_of_the_union], metadatas=metadatas\n",
    ")\n",
    "print(documents[0])"
   ]
  },
  {
   "cell_type": "markdown",
   "id": "ee080e12-6f44-4311-b1ef-302520a41d66",
   "metadata": {},
   "source": [
    "文字列コンテンツを直接取得したい場合は、.split_text を使用します："
   ]
  },
  {
   "cell_type": "code",
   "execution_count": 7,
   "id": "2a830a9f",
   "metadata": {},
   "outputs": [
    {
     "data": {
      "text/plain": [
       "'Madam Speaker, Madam Vice President, our First Lady and Second Gentleman. Members of Congress and the Cabinet. Justices of the Supreme Court. My fellow Americans.  \\n\\nLast year COVID-19 kept us apart. This year we are finally together again. \\n\\nTonight, we meet as Democrats Republicans and Independents. But most importantly as Americans. \\n\\nWith a duty to one another to the American people to the Constitution. \\n\\nAnd with an unwavering resolve that freedom will always triumph over tyranny. \\n\\nSix days ago, Russia’s Vladimir Putin sought to shake the foundations of the free world thinking he could make it bend to his menacing ways. But he badly miscalculated. \\n\\nHe thought he could roll into Ukraine and the world would roll over. Instead he met a wall of strength he never imagined. \\n\\nHe met the Ukrainian people. \\n\\nFrom President Zelenskyy to every Ukrainian, their fearlessness, their courage, their determination, inspires the world.'"
      ]
     },
     "execution_count": 7,
     "metadata": {},
     "output_type": "execute_result"
    }
   ],
   "source": [
    "text_splitter.split_text(state_of_the_union)[0]"
   ]
  }
 ],
 "metadata": {
  "kernelspec": {
   "display_name": "Python 3 (ipykernel)",
   "language": "python",
   "name": "python3"
  },
  "language_info": {
   "codemirror_mode": {
    "name": "ipython",
    "version": 3
   },
   "file_extension": ".py",
   "mimetype": "text/x-python",
   "name": "python",
   "nbconvert_exporter": "python",
   "pygments_lexer": "ipython3",
   "version": "3.10.4"
  }
 },
 "nbformat": 4,
 "nbformat_minor": 5
}
