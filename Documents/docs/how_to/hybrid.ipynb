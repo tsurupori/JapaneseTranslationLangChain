{
 "cells": [
  {
   "cell_type": "markdown",
   "id": "14d3fd06",
   "metadata": {
    "id": "14d3fd06"
   },
   "source": [
    "# ハイブリッド検索\n",
    "\n",
    "LangChainでの標準的な検索は、ベクトル類似性に基づいて行われます。  \n",
    "ただし、いくつかのベクトルストア（Astra DB、ElasticSearch、Neo4J、AzureSearch、Qdrantなど）では、ベクトル類似性検索と他の検索技術（全文検索、BM25など）を組み合わせた高度な検索をサポートしています。  \n",
    "これを一般的に「ハイブリッド検索」と呼びます。\n",
    "\n",
    "**Step 1: 使用するベクトルストアがハイブリッド検索をサポートしているか確認する**\n",
    "\n",
    "現在、LangChainにはハイブリッド検索を統一的に実行する方法はありません。ベクトルストアごとに独自の方法が用意されている場合があります。  \n",
    "これは通常、`similarity_search` 実行時にキーワード引数として指定されます。\n",
    "\n",
    "ドキュメントやソースコードを読んで、使用するベクトルストアがハイブリッド検索をサポートしているか、またその使用方法を確認してください。\n",
    "\n",
    "**Step 2: そのパラメータをチェーンの設定可能なフィールドとして追加する**\n",
    "\n",
    "設定可能なフィールドとして追加することで、実行時にチェーンを簡単に呼び出し、関連するフラグを設定できます。\n",
    "設定に関する詳細はこちらのドキュメントをご覧ください。 [this documentation](/docs/how_to/configure)\n",
    "\n",
    "**Step 3: 設定可能なフィールドを使用してチェーンを呼び出す**\n",
    "\n",
    "実行時に、このチェーンを設定可能なフィールドとともに呼び出します。\n",
    "\n",
    "## コード例\n",
    "\n",
    "具体的なコード例を見てみましょう。この例では、Astra DBのCassandra/CQLインターフェースを使用します。\n",
    "\n",
    "以下のPythonパッケージをインストールしてください："
   ]
  },
  {
   "cell_type": "code",
   "execution_count": null,
   "id": "c2efe35eea197769",
   "metadata": {
    "id": "c2efe35eea197769",
    "outputId": "527275b4-076e-4b22-945c-e41a59188116"
   },
   "outputs": [],
   "source": [
    "!pip install \"cassio>=0.1.7\""
   ]
  },
  {
   "cell_type": "markdown",
   "id": "b4ef96d44341cd84",
   "metadata": {
    "collapsed": false,
    "id": "b4ef96d44341cd84"
   },
   "source": [
    "接続情報を取得 [connection secrets](https://docs.datastax.com/en/astra/astra-db-vector/get-started/quickstart.html).\n",
    "\n",
    "Cassioを初期化:"
   ]
  },
  {
   "cell_type": "code",
   "execution_count": null,
   "id": "cb2cef097277c32e",
   "metadata": {
    "id": "cb2cef097277c32e",
    "outputId": "4c3d05a0-319a-44a0-8ec3-0a9c78453132"
   },
   "outputs": [],
   "source": [
    "import cassio\n",
    "\n",
    "cassio.init(\n",
    "    database_id=\"Your database ID\",\n",
    "    token=\"Your application token\",\n",
    "    keyspace=\"Your key space\",\n",
    ")"
   ]
  },
  {
   "cell_type": "markdown",
   "id": "e1e51444877f45eb",
   "metadata": {
    "collapsed": false,
    "id": "e1e51444877f45eb"
   },
   "source": [
    "標準インデックスアナライザー [index analyzer](https://docs.datastax.com/en/astra/astra-db-vector/cql/use-analyzers-with-cql.html)を使用してCassandra VectorStoreを作成します。  \n",
    "このインデックスアナライザーは、単語のマッチングを有効にするために必要です。"
   ]
  },
  {
   "cell_type": "code",
   "execution_count": null,
   "id": "7345de3c",
   "metadata": {
    "id": "7345de3c",
    "outputId": "d38bcee0-0134-4ac6-8d35-afcce282481b"
   },
   "outputs": [],
   "source": [
    "from cassio.table.cql import STANDARD_ANALYZER\n",
    "from langchain_community.vectorstores import Cassandra\n",
    "from langchain_openai import OpenAIEmbeddings\n",
    "\n",
    "embeddings = OpenAIEmbeddings()\n",
    "vectorstore = Cassandra(\n",
    "    embedding=embeddings,  # OpenAI埋め込みモデルを使用\n",
    "    table_name=\"test_hybrid\",  # テーブル名\n",
    "    body_index_options=[STANDARD_ANALYZER],  # 標準アナライザーを設定\n",
    "    session=None,  # セッション情報\n",
    "    keyspace=None,  # キースペース情報\n",
    ")\n",
    "\n",
    "# テキストをベクトルストアに追加\n",
    "vectorstore.add_texts(\n",
    "    [\n",
    "        \"In 2023, I visited Paris\",\n",
    "        \"In 2022, I visited New York\",\n",
    "        \"In 2021, I visited New Orleans\",\n",
    "    ]\n",
    ")\n"
   ]
  },
  {
   "cell_type": "markdown",
   "id": "73887f23bbab978c",
   "metadata": {
    "collapsed": false,
    "id": "73887f23bbab978c"
   },
   "source": [
    "以下のコードでは、標準的な類似検索を行います。すべてのドキュメントが返されます。"
   ]
  },
  {
   "cell_type": "code",
   "execution_count": null,
   "id": "3c2a39fa",
   "metadata": {
    "id": "3c2a39fa",
    "outputId": "5290085b-896c-4c81-9b40-c315331b7009"
   },
   "outputs": [
    {
     "data": {
      "text/plain": [
       "[Document(page_content='In 2022, I visited New York'),\n",
       "Document(page_content='In 2023, I visited Paris'),\n",
       "Document(page_content='In 2021, I visited New Orleans')]"
      ]
     },
     "execution_count": null,
     "metadata": {},
     "output_type": "execute_result"
    }
   ],
   "source": [
    "vectorstore.as_retriever().invoke(\"What city did I visit last?\")"
   ]
  },
  {
   "cell_type": "markdown",
   "id": "78d4c3c79e67d8c3",
   "metadata": {
    "collapsed": false,
    "id": "78d4c3c79e67d8c3"
   },
   "source": [
    "`body_search` 引数を使用して、検索を「new」という単語に基づいてフィルタリングします。"
   ]
  },
  {
   "cell_type": "code",
   "execution_count": null,
   "id": "56393baa",
   "metadata": {
    "id": "56393baa",
    "outputId": "d1c939f3-342f-4df4-94a3-d25429b5a25e"
   },
   "outputs": [
    {
     "data": {
      "text/plain": [
       "[Document(page_content='In 2022, I visited New York'),\n",
       "Document(page_content='In 2021, I visited New Orleans')]"
      ]
     },
     "execution_count": null,
     "metadata": {},
     "output_type": "execute_result"
    }
   ],
   "source": [
    "vectorstore.as_retriever(search_kwargs={\"body_search\": \"new\"}).invoke(\n",
    "    \"What city did I visit last?\"\n",
    ")"
   ]
  },
  {
   "cell_type": "markdown",
   "id": "88ae97ed",
   "metadata": {
    "id": "88ae97ed"
   },
   "source": [
    "質問応答用のチェーンを作成"
   ]
  },
  {
   "cell_type": "code",
   "execution_count": null,
   "id": "62707b4f",
   "metadata": {
    "id": "62707b4f"
   },
   "outputs": [],
   "source": [
    "from langchain_core.output_parsers import StrOutputParser\n",
    "from langchain_core.prompts import ChatPromptTemplate\n",
    "from langchain_core.runnables import (\n",
    "    ConfigurableField,\n",
    "    RunnablePassthrough,\n",
    ")\n",
    "from langchain_openai import ChatOpenAI"
   ]
  },
  {
   "cell_type": "markdown",
   "id": "b6778ffa",
   "metadata": {
    "id": "b6778ffa"
   },
   "source": [
    "質問応答用の基本チェーン設定"
   ]
  },
  {
   "cell_type": "code",
   "execution_count": null,
   "id": "44a865f6",
   "metadata": {
    "id": "44a865f6"
   },
   "outputs": [],
   "source": [
    "template = \"\"\"Answer the question based only on the following context:\n",
    "{context}\n",
    "Question: {question}\n",
    "\"\"\"\n",
    "prompt = ChatPromptTemplate.from_template(template)\n",
    "\n",
    "model = ChatOpenAI()\n",
    "\n",
    "retriever = vectorstore.as_retriever()"
   ]
  },
  {
   "cell_type": "markdown",
   "id": "72125166",
   "metadata": {
    "id": "72125166"
   },
   "source": [
    "ここでは、リトリーバーに設定可能なフィールドを持たせています。  \n",
    "すべてのベクトルストアリトリーバーには search_kwargs というフィールドがあります。  \n",
    "これは、ベクトルストア固有のフィールドを含む単なる辞書です。"
   ]
  },
  {
   "cell_type": "code",
   "execution_count": null,
   "id": "babbadff",
   "metadata": {
    "id": "babbadff"
   },
   "outputs": [],
   "source": [
    "configurable_retriever = retriever.configurable_fields(\n",
    "    search_kwargs=ConfigurableField(\n",
    "        id=\"search_kwargs\",\n",
    "        name=\"Search Kwargs\",\n",
    "        description=\"The search kwargs to use\",\n",
    "    )\n",
    ")"
   ]
  },
  {
   "cell_type": "markdown",
   "id": "2d481b70",
   "metadata": {
    "id": "2d481b70"
   },
   "source": [
    "設定可能なリトリーバーを使用してチェーンを作成できるようになりました。"
   ]
  },
  {
   "cell_type": "code",
   "execution_count": null,
   "id": "210b0446",
   "metadata": {
    "id": "210b0446"
   },
   "outputs": [],
   "source": [
    "chain = (\n",
    "    {\"context\": configurable_retriever, \"question\": RunnablePassthrough()}\n",
    "    | prompt\n",
    "    | model\n",
    "    | StrOutputParser()\n",
    ")"
   ]
  },
  {
   "cell_type": "code",
   "execution_count": null,
   "id": "a38037b2",
   "metadata": {
    "id": "a38037b2",
    "outputId": "1ea14996-5965-4a5e-9678-b9c35ce5c6de"
   },
   "outputs": [
    {
     "data": {
      "text/plain": [
       "Paris"
      ]
     },
     "execution_count": null,
     "metadata": {},
     "output_type": "execute_result"
    }
   ],
   "source": [
    "chain.invoke(\"What city did I visit last?\")"
   ]
  },
  {
   "cell_type": "markdown",
   "id": "7f6458c3",
   "metadata": {
    "id": "7f6458c3"
   },
   "source": [
    "設定可能なオプションを使用してチェーンを呼び出すことができます。  \n",
    "`search_kwargs` は設定可能なフィールドのIDです。この値には、Astra DBで使用する検索引数を指定します。"
   ]
  },
  {
   "cell_type": "code",
   "execution_count": null,
   "id": "9gYLqBTH8BFz",
   "metadata": {
    "id": "9gYLqBTH8BFz",
    "outputId": "4358a2e6-f306-48f1-dd5c-781ac8a33e89"
   },
   "outputs": [
    {
     "data": {
      "text/plain": [
       "New York"
      ]
     },
     "execution_count": null,
     "metadata": {},
     "output_type": "execute_result"
    }
   ],
   "source": [
    "chain.invoke(\n",
    "    \"What city did I visit last?\",\n",
    "    config={\"configurable\": {\"search_kwargs\": {\"body_search\": \"new\"}}},\n",
    ")"
   ]
  }
 ],
 "metadata": {
  "kernelspec": {
   "display_name": "Python 3 (ipykernel)",
   "language": "python",
   "name": "python3"
  },
  "language_info": {
   "codemirror_mode": {
    "name": "ipython",
    "version": 3
   },
   "file_extension": ".py",
   "mimetype": "text/x-python",
   "name": "python",
   "nbconvert_exporter": "python",
   "pygments_lexer": "ipython3",
   "version": "3.9.1"
  }
 },
 "nbformat": 4,
 "nbformat_minor": 5
}
