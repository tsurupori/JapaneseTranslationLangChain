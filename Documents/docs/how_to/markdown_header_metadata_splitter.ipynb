{
 "cells": [
  {
   "cell_type": "markdown",
   "id": "70e9b619",
   "metadata": {},
   "source": [
    "# 見出しごとにMarkdownを分割する方法\n",
    "\n",
    "### 動機\n",
    "\n",
    "多くのチャットやQ&Aアプリケーションでは、入力ドキュメントを埋め込みやベクトルストレージに送る前にチャンクに分割する必要があります。\n",
    "\n",
    "Pineconeが提供する以下のメモは参考になります[These notes](https://www.pinecone.io/learn/chunking-strategies/) ：  \n",
    "\n",
    "- **パラグラフやドキュメント全体を埋め込む場合**  \n",
    "埋め込みプロセスでは、全体のコンテキストや文やフレーズ間の関係を考慮します。  \n",
    "その結果、テキストの広義的な意味やテーマをより包括的に表現するベクトル表現が得られます。\n",
    "\n",
    "- **チャンク化の目的**  \n",
    "一般的に、同じ文脈を持つテキストを一緒に保つことが重要です。  \n",
    "この観点から、ドキュメント自体の構造を尊重するのが望ましい場合があります。  \n",
    "例えば、Markdownファイルは見出しで整理されています。  \n",
    "この場合、特定の見出しグループごとにチャンクを作成するのが直感的なアプローチです。\n",
    " \n",
    "この課題に対処するために、[MarkdownHeaderTextSplitter](https://python.langchain.com/api_reference/text_splitters/markdown/langchain_text_splitters.markdown.MarkdownHeaderTextSplitter.html) を使用することで、Markdownファイルを指定した見出しごとに分割することができます。\n",
    "\n",
    "以下のMarkdownを分割したい場合：\n",
    "```\n",
    "md = '# Foo\\n\\n ## Bar\\n\\nHi this is Jim  \\nHi this is Joe\\n\\n ## Baz\\n\\n Hi this is Molly' \n",
    "```\n",
    " \n",
    "次のような見出しに基づいて分割するよう指定します：\n",
    "```\n",
    "[(\"#\", \"Header 1\"),(\"##\", \"Header 2\")]\n",
    "```\n",
    "\n",
    "これにより、コンテンツが共通の見出しごとにグループ化または分割されます：\n",
    "```\n",
    "{'content': 'Hi this is Jim  \\nHi this is Joe', 'metadata': {'Header 1': 'Foo', 'Header 2': 'Bar'}}\n",
    "{'content': 'Hi this is Molly', 'metadata': {'Header 1': 'Foo', 'Header 2': 'Baz'}}\n",
    "```\n",
    "\n",
    "以下にいくつかの例を見てみましょう。\n",
    "\n",
    "### 基本的な使用例:"
   ]
  },
  {
   "cell_type": "code",
   "execution_count": null,
   "id": "0cd11819-4d4e-4fc1-aa85-faf69d24db89",
   "metadata": {},
   "outputs": [],
   "source": [
    "%pip install -qU langchain-text-splitters"
   ]
  },
  {
   "cell_type": "code",
   "execution_count": 1,
   "id": "ceb3c1fb",
   "metadata": {
    "ExecuteTime": {
     "end_time": "2023-09-25T19:12:27.243781300Z",
     "start_time": "2023-09-25T19:12:24.943559400Z"
    }
   },
   "outputs": [],
   "source": [
    "from langchain_text_splitters import MarkdownHeaderTextSplitter"
   ]
  },
  {
   "cell_type": "code",
   "execution_count": 2,
   "id": "2ae3649b",
   "metadata": {
    "ExecuteTime": {
     "end_time": "2023-09-25T19:12:31.917013600Z",
     "start_time": "2023-09-25T19:12:31.905694500Z"
    }
   },
   "outputs": [
    {
     "data": {
      "text/plain": [
       "[Document(page_content='Hi this is Jim  \\nHi this is Joe', metadata={'Header 1': 'Foo', 'Header 2': 'Bar'}),\n",
       " Document(page_content='Hi this is Lance', metadata={'Header 1': 'Foo', 'Header 2': 'Bar', 'Header 3': 'Boo'}),\n",
       " Document(page_content='Hi this is Molly', metadata={'Header 1': 'Foo', 'Header 2': 'Baz'})]"
      ]
     },
     "execution_count": 2,
     "metadata": {},
     "output_type": "execute_result"
    }
   ],
   "source": [
    "markdown_document = \"# Foo\\n\\n    ## Bar\\n\\nHi this is Jim\\n\\nHi this is Joe\\n\\n ### Boo \\n\\n Hi this is Lance \\n\\n ## Baz\\n\\n Hi this is Molly\"\n",
    "\n",
    "headers_to_split_on = [\n",
    "    (\"#\", \"Header 1\"),\n",
    "    (\"##\", \"Header 2\"),\n",
    "    (\"###\", \"Header 3\"),\n",
    "]\n",
    "\n",
    "markdown_splitter = MarkdownHeaderTextSplitter(headers_to_split_on)\n",
    "md_header_splits = markdown_splitter.split_text(markdown_document)\n",
    "md_header_splits"
   ]
  },
  {
   "cell_type": "code",
   "execution_count": 3,
   "id": "aac1738c",
   "metadata": {
    "ExecuteTime": {
     "end_time": "2023-09-25T19:12:35.672077100Z",
     "start_time": "2023-09-25T19:12:35.666731400Z"
    }
   },
   "outputs": [
    {
     "data": {
      "text/plain": [
       "langchain_core.documents.base.Document"
      ]
     },
     "execution_count": 3,
     "metadata": {},
     "output_type": "execute_result"
    }
   ],
   "source": [
    "type(md_header_splits[0])"
   ]
  },
  {
   "cell_type": "markdown",
   "id": "102aad57-7bef-42d3-ab4e-b50d6dc11718",
   "metadata": {},
   "source": [
    "デフォルトでは、`MarkdownHeaderTextSplitter` は、分割対象となる見出しを出力チャンクのコンテンツから除去します。  \n",
    "ただし、`strip_headers=False` を設定することで、この動作を無効化できます。"
   ]
  },
  {
   "cell_type": "code",
   "execution_count": 4,
   "id": "9fce45ba-a4be-4a69-ad27-f5ff195c4fd7",
   "metadata": {},
   "outputs": [
    {
     "data": {
      "text/plain": [
       "[Document(page_content='# Foo  \\n## Bar  \\nHi this is Jim  \\nHi this is Joe', metadata={'Header 1': 'Foo', 'Header 2': 'Bar'}),\n",
       " Document(page_content='### Boo  \\nHi this is Lance', metadata={'Header 1': 'Foo', 'Header 2': 'Bar', 'Header 3': 'Boo'}),\n",
       " Document(page_content='## Baz  \\nHi this is Molly', metadata={'Header 1': 'Foo', 'Header 2': 'Baz'})]"
      ]
     },
     "execution_count": 4,
     "metadata": {},
     "output_type": "execute_result"
    }
   ],
   "source": [
    "markdown_splitter = MarkdownHeaderTextSplitter(headers_to_split_on, strip_headers=False)\n",
    "md_header_splits = markdown_splitter.split_text(markdown_document)\n",
    "md_header_splits"
   ]
  },
  {
   "cell_type": "markdown",
   "id": "aa67e0cc-d721-4536-9c7a-9fa3a7a69cbe",
   "metadata": {},
   "source": [
    "### Markdownの行を個別のドキュメントとして返す方法\n",
    "\n",
    "デフォルトでは、`MarkdownHeaderTextSplitter` は、`headers_to_split_on` で指定された見出しに基づいて行を集約します。  \n",
    "ただし、`return_each_line` を指定することで、この動作を無効化し、各行を個別のドキュメントとして返すことができます。"
   ]
  },
  {
   "cell_type": "code",
   "execution_count": 5,
   "id": "940bb609-c9c3-4593-ac2d-d825c80ceb44",
   "metadata": {},
   "outputs": [
    {
     "data": {
      "text/plain": [
       "[Document(page_content='Hi this is Jim', metadata={'Header 1': 'Foo', 'Header 2': 'Bar'}),\n",
       " Document(page_content='Hi this is Joe', metadata={'Header 1': 'Foo', 'Header 2': 'Bar'}),\n",
       " Document(page_content='Hi this is Lance', metadata={'Header 1': 'Foo', 'Header 2': 'Bar', 'Header 3': 'Boo'}),\n",
       " Document(page_content='Hi this is Molly', metadata={'Header 1': 'Foo', 'Header 2': 'Baz'})]"
      ]
     },
     "execution_count": 5,
     "metadata": {},
     "output_type": "execute_result"
    }
   ],
   "source": [
    "markdown_splitter = MarkdownHeaderTextSplitter(\n",
    "    headers_to_split_on,\n",
    "    return_each_line=True,\n",
    ")\n",
    "md_header_splits = markdown_splitter.split_text(markdown_document)\n",
    "md_header_splits"
   ]
  },
  {
   "cell_type": "markdown",
   "id": "9bd8977a",
   "metadata": {},
   "source": [
    "注意点\n",
    "- 各行が個別の`Documentオブジェクト`として返されます。\n",
    "- 見出し情報は、各ドキュメントの`metadata`として保持されます。\n",
    "\n",
    "### チャンクサイズを制限する方法\n",
    "\n",
    "Markdownの各グループ内で、`RecursiveCharacterTextSplitter` のようなテキストスプリッターを適用することで、チャンクサイズをさらに制御することができます。"
   ]
  },
  {
   "cell_type": "code",
   "execution_count": 6,
   "id": "6f1f62bf-2653-4361-9bb0-964d86cb14db",
   "metadata": {},
   "outputs": [
    {
     "data": {
      "text/plain": [
       "[Document(page_content='# Intro  \\n## History  \\nMarkdown[9] is a lightweight markup language for creating formatted text using a plain-text editor. John Gruber created Markdown in 2004 as a markup language that is appealing to human readers in its source code form.[9]', metadata={'Header 1': 'Intro', 'Header 2': 'History'}),\n",
       " Document(page_content='Markdown is widely used in blogging, instant messaging, online forums, collaborative software, documentation pages, and readme files.', metadata={'Header 1': 'Intro', 'Header 2': 'History'}),\n",
       " Document(page_content='## Rise and divergence  \\nAs Markdown popularity grew rapidly, many Markdown implementations appeared, driven mostly by the need for  \\nadditional features such as tables, footnotes, definition lists,[note 1] and Markdown inside HTML blocks.', metadata={'Header 1': 'Intro', 'Header 2': 'Rise and divergence'}),\n",
       " Document(page_content='#### Standardization  \\nFrom 2012, a group of people, including Jeff Atwood and John MacFarlane, launched what Atwood characterised as a standardisation effort.', metadata={'Header 1': 'Intro', 'Header 2': 'Rise and divergence'}),\n",
       " Document(page_content='## Implementations  \\nImplementations of Markdown are available for over a dozen programming languages.', metadata={'Header 1': 'Intro', 'Header 2': 'Implementations'})]"
      ]
     },
     "execution_count": 6,
     "metadata": {},
     "output_type": "execute_result"
    }
   ],
   "source": [
    "markdown_document = \"# Intro \\n\\n    ## History \\n\\n Markdown[9] is a lightweight markup language for creating formatted text using a plain-text editor. John Gruber created Markdown in 2004 as a markup language that is appealing to human readers in its source code form.[9] \\n\\n Markdown is widely used in blogging, instant messaging, online forums, collaborative software, documentation pages, and readme files. \\n\\n ## Rise and divergence \\n\\n As Markdown popularity grew rapidly, many Markdown implementations appeared, driven mostly by the need for \\n\\n additional features such as tables, footnotes, definition lists,[note 1] and Markdown inside HTML blocks. \\n\\n #### Standardization \\n\\n From 2012, a group of people, including Jeff Atwood and John MacFarlane, launched what Atwood characterised as a standardisation effort. \\n\\n ## Implementations \\n\\n Implementations of Markdown are available for over a dozen programming languages.\"\n",
    "\n",
    "headers_to_split_on = [\n",
    "    (\"#\", \"Header 1\"),  # 見出しレベル1\n",
    "    (\"##\", \"Header 2\"),  # 見出しレベル2\n",
    "]\n",
    "\n",
    "# Markdownの分割\n",
    "markdown_splitter = MarkdownHeaderTextSplitter(\n",
    "    headers_to_split_on=headers_to_split_on,  # 分割対象の見出しを指定\n",
    "    strip_headers=False  # 見出しを出力に含める\n",
    ")\n",
    "md_header_splits = markdown_splitter.split_text(markdown_document)\n",
    "\n",
    "# Char-level splits\n",
    "from langchain_text_splitters import RecursiveCharacterTextSplitter\n",
    "\n",
    "chunk_size = 250  # 各チャンクの最大文字数\n",
    "chunk_overlap = 30  # チャンク間で重複する文字数\n",
    "text_splitter = RecursiveCharacterTextSplitter(\n",
    "    chunk_size=chunk_size, chunk_overlap=chunk_overlap\n",
    ")\n",
    "\n",
    "# 分割\n",
    "splits = text_splitter.split_documents(md_header_splits)\n",
    "splits"
   ]
  }
 ],
 "metadata": {
  "kernelspec": {
   "display_name": "env",
   "language": "python",
   "name": "python3"
  },
  "language_info": {
   "codemirror_mode": {
    "name": "ipython",
    "version": 3
   },
   "file_extension": ".py",
   "mimetype": "text/x-python",
   "name": "python",
   "nbconvert_exporter": "python",
   "pygments_lexer": "ipython3",
   "version": "3.12.7"
  }
 },
 "nbformat": 4,
 "nbformat_minor": 5
}
