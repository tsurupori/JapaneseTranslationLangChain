{
 "cells": [
  {
   "cell_type": "raw",
   "id": "52976910",
   "metadata": {
    "vscode": {
     "languageId": "raw"
    }
   },
   "source": [
    "---\n",
    "keywords: [recursivecharactertextsplitter]\n",
    "---"
   ]
  },
  {
   "cell_type": "markdown",
   "id": "a678d550",
   "metadata": {},
   "source": [
    "# テキストを文字ごとに再帰的に分割する方法\n",
    "\n",
    "この [text splitter](/docs/concepts/text_splitters/) は、一般的なテキスト向けに推奨されるものです。  \n",
    "リスト化された文字を基準にパラメータ化されており、指定した順番でテキストを分割していきます。  \n",
    "チャンクが十分に小さくなるまで順に分割を試みます。デフォルトのリストは  `[\"\\n\\n\", \"\\n\", \" \", \"\"]`です。  \n",
    "これにより、段落（次に文、次に単語）を可能な限り一緒に保持し、意味的に最も関連性の高いテキスト単位を保つ効果があります。\n",
    "\n",
    "主な特徴\n",
    "1. テキストの分割方法: 文字リストに基づいて分割します。\n",
    "2. チャンクサイズの測定方法: 文字数に基づいて測定します。\n",
    "\n",
    "以下は、使用例を示したものです。\n",
    "- 文字列コンテンツを直接取得したい場合: `.split_text` を使用します。\n",
    "- LangChainの[Document](https://python.langchain.com/api_reference/core/documents/langchain_core.documents.base.Document.html) オブジェクトを作成したい場合（例: 後続のタスクで使用するため）: `.create_documents` を使用します。"
   ]
  },
  {
   "cell_type": "code",
   "execution_count": null,
   "id": "9c16167c-1e56-4e11-9b8b-60f93044498e",
   "metadata": {},
   "outputs": [],
   "source": [
    "%pip install -qU langchain-text-splitters"
   ]
  },
  {
   "cell_type": "code",
   "execution_count": 1,
   "id": "3390ae1d",
   "metadata": {},
   "outputs": [
    {
     "name": "stdout",
     "output_type": "stream",
     "text": [
      "page_content='Madam Speaker, Madam Vice President, our First Lady and Second Gentleman. Members of Congress and'\n",
      "page_content='of Congress and the Cabinet. Justices of the Supreme Court. My fellow Americans.'\n"
     ]
    }
   ],
   "source": [
    "from langchain_text_splitters import RecursiveCharacterTextSplitter\n",
    "\n",
    "# サンプルドキュメントを読み込む\n",
    "with open(\"state_of_the_union.txt\") as f:\n",
    "    state_of_the_union = f.read()\n",
    "\n",
    "text_splitter = RecursiveCharacterTextSplitter(\n",
    "    # 小さなチャンクサイズを設定（例示のため）\n",
    "    chunk_size=100,  # チャンクの最大サイズ\n",
    "    chunk_overlap=20,  # チャンク間の重複部分のサイズ\n",
    "    length_function=len,  # チャンクサイズを測定する関数\n",
    "    is_separator_regex=False,  # セパレーターリストを正規表現として解釈するかどうか\n",
    ")\n",
    "\n",
    "# ドキュメントを分割してLangChainのDocumentオブジェクトを作成\n",
    "texts = text_splitter.create_documents([state_of_the_union])\n",
    "print(texts[0])  # 最初のチャンクを表示\n",
    "print(texts[1])  # 2番目のチャンクを表示"
   ]
  },
  {
   "cell_type": "code",
   "execution_count": 2,
   "id": "0839f4f0",
   "metadata": {},
   "outputs": [
    {
     "data": {
      "text/plain": [
       "['Madam Speaker, Madam Vice President, our First Lady and Second Gentleman. Members of Congress and',\n",
       " 'of Congress and the Cabinet. Justices of the Supreme Court. My fellow Americans.']"
      ]
     },
     "execution_count": 2,
     "metadata": {},
     "output_type": "execute_result"
    }
   ],
   "source": [
    "# テキストを文字列リストとして分割\n",
    "text_splitter.split_text(state_of_the_union)[:2]"
   ]
  },
  {
   "cell_type": "markdown",
   "id": "60336622-b9d0-4172-816a-6cd1bb9ec481",
   "metadata": {},
   "source": [
    "`RecursiveCharacterTextSplitter`のパラメータ解説\n",
    "\n",
    "- `chunk_size`:  \n",
    "チャンクの最大サイズ。サイズはlength_functionで決定されます。上記では最大100文字。\n",
    "- `chunk_overlap`:  \n",
    "チャンク間の重複部分の目標サイズ。チャンクが分割される際にコンテキストが失われるのを防ぐために使用します。上記では20文字。\n",
    "- `length_function`:  \n",
    "チャンクサイズを決定する関数。上記では文字数を使用して測定（len）。\n",
    "- `is_separator_regex`:  \n",
    "セパレーターリスト（デフォルトでは [\"\\n\\n\", \"\\n\", \" \", \"\"]）を正規表現として解釈するかどうか。上記ではFalseに設定されています。"
   ]
  },
  {
   "cell_type": "markdown",
   "id": "2b74939c",
   "metadata": {},
   "source": [
    "## 単語境界がない言語でのテキスト分割\n",
    "\n",
    "一部の言語（例: 中国語、日本語、タイ語）では、[単語境界](https://en.wikipedia.org/wiki/Category:Writing_systems_without_word_boundaries)が存在しません。  \n",
    "この場合、デフォルトのセパレーターリスト` [\"\\n\\n\", \"\\n\", \" \", \"\"] `を使用すると、単語がチャンク間で分割される可能性があります。  \n",
    "単語を分割せずに保持するためには、セパレーターリストをカスタマイズし、追加の句読点を含めることができます。\n",
    "\n",
    "カスタマイズするセパレーター\n",
    "1. ASCIIピリオド（.）、[Unicode全角ピリオド](https://en.wikipedia.org/wiki/Halfwidth_and_Fullwidth_Forms_(Unicode_block))（．）、および句点（。）\n",
    "    - 中国語や日本語で使用される終止符。\n",
    "2. ゼロ幅スペース（U+200B）\n",
    "    - タイ語、ミャンマー語、クメール語、日本語などで使用される。\n",
    "3. ASCIIコンマ（,）、Unicode全角コンマ（，）、および句読点（、）\n",
    "    - 中国語や日本語で使用されるコンマ。"
   ]
  },
  {
   "cell_type": "code",
   "execution_count": null,
   "id": "6d48a8ef",
   "metadata": {},
   "outputs": [],
   "source": [
    "text_splitter = RecursiveCharacterTextSplitter(\n",
    "    separators=[\n",
    "        \"\\n\\n\",     # 段落区切り\n",
    "        \"\\n\",       # 改行\n",
    "        \" \",        # スペース\n",
    "        \".\",        # ピリオド\n",
    "        \",\",        # コンマ\n",
    "        \"\\u200b\",   # ゼロ幅スペース\n",
    "        \"\\uff0c\",   # 全角コンマ\n",
    "        \"\\u3001\",   # 句読点\n",
    "        \"\\uff0e\",   # 全角ピリオド\n",
    "        \"\\u3002\",   # 句点\n",
    "        \"\",         # 最後の分割手段として空文字列\n",
    "    ],\n",
    "    # その他の引数（例: chunk_size, chunk_overlapなど）\n",
    ")"
   ]
  }
 ],
 "metadata": {
  "kernelspec": {
   "display_name": "Python 3 (ipykernel)",
   "language": "python",
   "name": "python3"
  },
  "language_info": {
   "codemirror_mode": {
    "name": "ipython",
    "version": 3
   },
   "file_extension": ".py",
   "mimetype": "text/x-python",
   "name": "python",
   "nbconvert_exporter": "python",
   "pygments_lexer": "ipython3",
   "version": "3.10.4"
  }
 },
 "nbformat": 4,
 "nbformat_minor": 5
}
