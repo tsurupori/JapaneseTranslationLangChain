{
 "cells": [
  {
   "cell_type": "markdown",
   "metadata": {},
   "source": [
    "# 複数のリトリーバーからの結果を統合する方法\n",
    "\n",
    "[EnsembleRetriever](https://python.langchain.com/api_reference/langchain/retrievers/langchain.retrievers.ensemble.EnsembleRetriever.html) は、複数のリトリーバーからの結果を統合するための機能を提供します。  \n",
    "このクラスは、複数の [BaseRetriever](https://python.langchain.com/api_reference/core/retrievers/langchain_core.retrievers.BaseRetriever.html)  オブジェクトをリストとして受け取り、それらの結果を [Reciprocal Rank Fusion](https://plg.uwaterloo.ca/~gvcormac/cormacksigir09-rrf.pdf)アルゴリズム に基づいて再ランク付けします。\n",
    "\n",
    "異なるアルゴリズムの強みを活用することで、`EnsembleRetriever` は単一のアルゴリズムよりも優れたパフォーマンスを実現できます。\n",
    "\n",
    "最も一般的なパターンは、スパースリトリーバー（例: BM25）と密リトリーバー（例: 埋め込み類似性）の結果を組み合わせることです。  \n",
    "この組み合わせは、それぞれの強みを補完し合うため、「ハイブリッド検索」として知られています。\n",
    "\n",
    "- スパースリトリーバー\n",
    "    - キーワードに基づいて関連性の高いドキュメントを見つけるのが得意。\n",
    "    - 例: BM25。\n",
    "- 密リトリーバー\n",
    "    - 意味的な類似性に基づいて関連性の高いドキュメントを見つけるのが得意。\n",
    "    - 例: 埋め込みモデルによる類似検索。\n",
    "\n",
    "## 基本的な使用例\n",
    "\n",
    "以下では、[BM25Retriever](https://python.langchain.com/api_reference/community/retrievers/langchain_community.retrievers.bm25.BM25Retriever.html) と [FAISS vector store](https://python.langchain.com/api_reference/community/vectorstores/langchain_community.vectorstores.faiss.FAISS.html)に基づくリトリーバーを組み合わせた例を示します。"
   ]
  },
  {
   "cell_type": "code",
   "execution_count": 9,
   "metadata": {},
   "outputs": [],
   "source": [
    "%pip install --upgrade --quiet  rank_bm25 > /dev/null"
   ]
  },
  {
   "cell_type": "code",
   "execution_count": 3,
   "metadata": {},
   "outputs": [],
   "source": [
    "from langchain.retrievers import EnsembleRetriever  # 複数のリトリーバーを統合するためのクラス\n",
    "from langchain_community.retrievers import BM25Retriever  # スパースリトリーバー（BM25）を提供\n",
    "from langchain_community.vectorstores import FAISS  # ベクトルストア（FAISS）を提供\n",
    "from langchain_openai import OpenAIEmbeddings  # OpenAIの埋め込みモデルを利用\n",
    "\n",
    "# --- データセット 1: BM25リトリーバー用のドキュメントリスト ---\n",
    "doc_list_1 = [\n",
    "    \"I like apples\",  # ドキュメント 1\n",
    "    \"I like oranges\",  # ドキュメント 2\n",
    "    \"Apples and oranges are fruits\",  # ドキュメント 3\n",
    "]\n",
    "\n",
    "# BM25リトリーバーの初期化\n",
    "bm25_retriever = BM25Retriever.from_texts(\n",
    "    doc_list_1, metadatas=[{\"source\": 1}] * len(doc_list_1)  # 各ドキュメントにメタデータを付与\n",
    ")\n",
    "bm25_retriever.k = 2  # 上位2件の結果を返す設定\n",
    "\n",
    "# --- データセット 2: FAISSリトリーバー用のドキュメントリスト ---\n",
    "doc_list_2 = [\n",
    "    \"You like apples\",  # ドキュメント 1\n",
    "    \"You like oranges\",  # ドキュメント 2\n",
    "]\n",
    "\n",
    "# FAISSリトリーバーの初期化\n",
    "embedding = OpenAIEmbeddings()  # 埋め込みモデルを設定\n",
    "faiss_vectorstore = FAISS.from_texts(\n",
    "    doc_list_2, embedding, metadatas=[{\"source\": 2}] * len(doc_list_2)  # 各ドキュメントにメタデータを付与\n",
    ")\n",
    "faiss_retriever = faiss_vectorstore.as_retriever(search_kwargs={\"k\": 2})  # 上位2件の結果を返す設定\n",
    "\n",
    "# --- EnsembleRetrieverの初期化 ---\n",
    "ensemble_retriever = EnsembleRetriever(\n",
    "    retrievers=[bm25_retriever, faiss_retriever],  # BM25リトリーバーとFAISSリトリーバーを組み合わせる\n",
    "    weights=[0.5, 0.5]  # 両リトリーバーの結果に同じ重み付け\n",
    ")\n"
   ]
  },
  {
   "cell_type": "code",
   "execution_count": 4,
   "metadata": {},
   "outputs": [
    {
     "data": {
      "text/plain": [
       "[Document(page_content='I like apples', metadata={'source': 1}),\n",
       " Document(page_content='You like apples', metadata={'source': 2}),\n",
       " Document(page_content='Apples and oranges are fruits', metadata={'source': 1}),\n",
       " Document(page_content='You like oranges', metadata={'source': 2})]"
      ]
     },
     "execution_count": 4,
     "metadata": {},
     "output_type": "execute_result"
    }
   ],
   "source": [
    "docs = ensemble_retriever.invoke(\"apples\")\n",
    "docs"
   ]
  },
  {
   "cell_type": "markdown",
   "metadata": {},
   "source": [
    "## \n",
    "実行時の設定\n",
    "　\n",
    "個々のリトリーバーを実行時に設定することも可能です。設定可能なフィールドを使用して行います。  \n",
    "以下は、FAISSリトリーバーの「top-k」パラメータを特定の値に更新する例です："
   ]
  },
  {
   "cell_type": "code",
   "execution_count": 5,
   "metadata": {},
   "outputs": [],
   "source": [
    "from langchain_core.runnables import ConfigurableField\n",
    "\n",
    "faiss_retriever = faiss_vectorstore.as_retriever(\n",
    "    search_kwargs={\"k\": 2}\n",
    ").configurable_fields(\n",
    "    search_kwargs=ConfigurableField(\n",
    "        id=\"search_kwargs_faiss\",\n",
    "        name=\"Search Kwargs\",\n",
    "        description=\"The search kwargs to use\",\n",
    "    )\n",
    ")\n",
    "\n",
    "ensemble_retriever = EnsembleRetriever(\n",
    "    retrievers=[bm25_retriever, faiss_retriever], weights=[0.5, 0.5]\n",
    ")"
   ]
  },
  {
   "cell_type": "code",
   "execution_count": 6,
   "metadata": {},
   "outputs": [
    {
     "data": {
      "text/plain": [
       "[Document(page_content='I like apples', metadata={'source': 1}),\n",
       " Document(page_content='You like apples', metadata={'source': 2}),\n",
       " Document(page_content='Apples and oranges are fruits', metadata={'source': 1})]"
      ]
     },
     "execution_count": 6,
     "metadata": {},
     "output_type": "execute_result"
    }
   ],
   "source": [
    "config = {\"configurable\": {\"search_kwargs_faiss\": {\"k\": 1}}}\n",
    "docs = ensemble_retriever.invoke(\"apples\", config=config)\n",
    "docs"
   ]
  },
  {
   "cell_type": "markdown",
   "metadata": {},
   "source": [
    "これにより、FAISSリトリーバーからのソースが1つだけ返されることに注意してください。これは、実行時に関連する設定を渡しているためです。"
   ]
  }
 ],
 "metadata": {
  "kernelspec": {
   "display_name": "Python 3 (ipykernel)",
   "language": "python",
   "name": "python3"
  },
  "language_info": {
   "codemirror_mode": {
    "name": "ipython",
    "version": 3
   },
   "file_extension": ".py",
   "mimetype": "text/x-python",
   "name": "python",
   "nbconvert_exporter": "python",
   "pygments_lexer": "ipython3",
   "version": "3.10.4"
  }
 },
 "nbformat": 4,
 "nbformat_minor": 4
}
